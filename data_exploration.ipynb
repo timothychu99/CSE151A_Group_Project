{
 "cells": [
  {
   "cell_type": "code",
   "execution_count": 5,
   "id": "6e7b0d16-b14b-48f3-b2a8-8cc7c3dbebea",
   "metadata": {},
   "outputs": [],
   "source": [
    "import zipfile\n",
    "import os\n",
    "\n",
    "# Extract CSV zip files\n",
    "if not os.path.isfile('mhealth_raw_data.csv'):\n",
    "    with zipfile.ZipFile('archive.zip', 'r') as zip_ref:\n",
    "        zip_ref.extractall('.')\n",
    "if not os.path.isdir('har70plus'):\n",
    "    with zipfile.ZipFile('archive (2).zip', 'r') as zip_ref:\n",
    "        zip_ref.extractall('.')"
   ]
  },
  {
   "cell_type": "code",
   "execution_count": null,
   "id": "613ba725-b021-41ea-bdd2-fc1197cd9efd",
   "metadata": {},
   "outputs": [],
   "source": []
  }
 ],
 "metadata": {
  "kernelspec": {
   "display_name": "Python 3 (ipykernel)",
   "language": "python",
   "name": "python3"
  },
  "language_info": {
   "codemirror_mode": {
    "name": "ipython",
    "version": 3
   },
   "file_extension": ".py",
   "mimetype": "text/x-python",
   "name": "python",
   "nbconvert_exporter": "python",
   "pygments_lexer": "ipython3",
   "version": "3.12.7"
  }
 },
 "nbformat": 4,
 "nbformat_minor": 5
}

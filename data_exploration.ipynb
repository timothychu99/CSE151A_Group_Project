{
 "cells": [
  {
   "cell_type": "code",
   "execution_count": 1,
   "id": "6e7b0d16-b14b-48f3-b2a8-8cc7c3dbebea",
   "metadata": {},
   "outputs": [],
   "source": [
    "import zipfile\n",
    "import os\n",
    "\n",
    "# Extract CSV zip files\n",
    "if not os.path.isfile('mhealth_raw_data.csv'):\n",
    "    with zipfile.ZipFile('archive.zip', 'r') as zip_ref:\n",
    "        zip_ref.extractall('.')\n",
    "if not os.path.isdir('har70plus'):\n",
    "    with zipfile.ZipFile('archive (2).zip', 'r') as zip_ref:\n",
    "        zip_ref.extractall('.')"
   ]
  },
  {
   "cell_type": "code",
   "execution_count": 2,
   "id": "613ba725-b021-41ea-bdd2-fc1197cd9efd",
   "metadata": {},
   "outputs": [],
   "source": [
    "import seaborn as sns\n",
    "import pandas as pd"
   ]
  },
  {
   "cell_type": "code",
   "execution_count": null,
   "id": "465d04bb-a966-4de4-b234-5539e84909d1",
   "metadata": {},
   "outputs": [],
   "source": [
    "m_health_raw_data = pd.read_csv('mhealth_raw_data.csv')\n",
    "\n",
    "# features = 4000 data, seed = 21\n",
    "m_health_samples = m_health_raw_data.sample(random_state = 21, n = 4000)\n",
    "sns.pairplot(m_health_samples)"
   ]
  },
  {
   "cell_type": "code",
   "execution_count": null,
   "id": "6345fdc7-d352-498b-aaa8-f728d4fe9962",
   "metadata": {},
   "outputs": [],
   "source": [
    "# Null Values in dataset, no missing data\n",
    "m_health_raw_data.columns[m_health_raw_data.isna().any()].tolist()"
   ]
  },
  {
   "cell_type": "code",
   "execution_count": null,
   "id": "0da14121-0da7-4ce1-ba9b-e2e5f75d4bd8",
   "metadata": {},
   "outputs": [],
   "source": [
    "# Data Distributions\n",
    "m_health_raw_data.describe()"
   ]
  },
  {
   "cell_type": "code",
   "execution_count": 12,
   "id": "ae6bee7a-3816-4abd-855a-f650f4db5c41",
   "metadata": {},
   "outputs": [
    {
     "name": "stdout",
     "output_type": "stream",
     "text": [
      "(1215745, 14)\n"
     ]
    }
   ],
   "source": [
    "# Scale - the number of Observations = 14\n",
    "print(m_health_raw_data.shape)"
   ]
  },
  {
   "cell_type": "code",
   "execution_count": 13,
   "id": "9205d48f-9dbc-4d46-a859-bef0f79377d2",
   "metadata": {},
   "outputs": [
    {
     "data": {
      "text/plain": [
       "Index(['alx', 'aly', 'alz', 'glx', 'gly', 'glz', 'arx', 'ary', 'arz', 'grx',\n",
       "       'gry', 'grz', 'Activity', 'subject'],\n",
       "      dtype='object')"
      ]
     },
     "execution_count": 13,
     "metadata": {},
     "output_type": "execute_result"
    }
   ],
   "source": [
    "# Column Description\n",
    "m_health_raw_data.columns"
   ]
  },
  {
   "cell_type": "code",
   "execution_count": null,
   "id": "8b65b7ee-0f4b-4349-aae8-1a557edb89fa",
   "metadata": {},
   "outputs": [],
   "source": []
  }
 ],
 "metadata": {
  "kernelspec": {
   "display_name": "Python 3 (ipykernel)",
   "language": "python",
   "name": "python3"
  },
  "language_info": {
   "codemirror_mode": {
    "name": "ipython",
    "version": 3
   },
   "file_extension": ".py",
   "mimetype": "text/x-python",
   "name": "python",
   "nbconvert_exporter": "python",
   "pygments_lexer": "ipython3",
   "version": "3.8.10"
  }
 },
 "nbformat": 4,
 "nbformat_minor": 5
}
